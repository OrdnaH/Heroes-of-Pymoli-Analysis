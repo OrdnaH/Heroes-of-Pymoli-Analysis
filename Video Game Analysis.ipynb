{
 "cells": [
  {
   "cell_type": "markdown",
   "metadata": {},
   "source": [
    "### Heroes Of Pymoli Data Analysis\n",
    "* Of the 1163 active players, the vast majority are male (84%). There also exists, a smaller, but notable proportion of female players (14%).\n",
    "\n",
    "* Our peak age demographic falls between 20-24 (44.8%) with secondary groups falling between 15-19 (18.60%) and 25-29 (13.4%).  "
   ]
  },
  {
   "cell_type": "code",
   "execution_count": 1,
   "metadata": {},
   "outputs": [
    {
     "data": {
      "text/html": [
       "<div>\n",
       "<style scoped>\n",
       "    .dataframe tbody tr th:only-of-type {\n",
       "        vertical-align: middle;\n",
       "    }\n",
       "\n",
       "    .dataframe tbody tr th {\n",
       "        vertical-align: top;\n",
       "    }\n",
       "\n",
       "    .dataframe thead th {\n",
       "        text-align: right;\n",
       "    }\n",
       "</style>\n",
       "<table border=\"1\" class=\"dataframe\">\n",
       "  <thead>\n",
       "    <tr style=\"text-align: right;\">\n",
       "      <th></th>\n",
       "      <th>Purchase ID</th>\n",
       "      <th>SN</th>\n",
       "      <th>Age</th>\n",
       "      <th>Gender</th>\n",
       "      <th>Item ID</th>\n",
       "      <th>Item Name</th>\n",
       "      <th>Price</th>\n",
       "    </tr>\n",
       "  </thead>\n",
       "  <tbody>\n",
       "    <tr>\n",
       "      <th>0</th>\n",
       "      <td>0</td>\n",
       "      <td>Lisim78</td>\n",
       "      <td>20</td>\n",
       "      <td>Male</td>\n",
       "      <td>108</td>\n",
       "      <td>Extraction, Quickblade Of Trembling Hands</td>\n",
       "      <td>3.53</td>\n",
       "    </tr>\n",
       "    <tr>\n",
       "      <th>1</th>\n",
       "      <td>1</td>\n",
       "      <td>Lisovynya38</td>\n",
       "      <td>40</td>\n",
       "      <td>Male</td>\n",
       "      <td>143</td>\n",
       "      <td>Frenzied Scimitar</td>\n",
       "      <td>1.56</td>\n",
       "    </tr>\n",
       "    <tr>\n",
       "      <th>2</th>\n",
       "      <td>2</td>\n",
       "      <td>Ithergue48</td>\n",
       "      <td>24</td>\n",
       "      <td>Male</td>\n",
       "      <td>92</td>\n",
       "      <td>Final Critic</td>\n",
       "      <td>4.88</td>\n",
       "    </tr>\n",
       "    <tr>\n",
       "      <th>3</th>\n",
       "      <td>3</td>\n",
       "      <td>Chamassasya86</td>\n",
       "      <td>24</td>\n",
       "      <td>Male</td>\n",
       "      <td>100</td>\n",
       "      <td>Blindscythe</td>\n",
       "      <td>3.27</td>\n",
       "    </tr>\n",
       "    <tr>\n",
       "      <th>4</th>\n",
       "      <td>4</td>\n",
       "      <td>Iskosia90</td>\n",
       "      <td>23</td>\n",
       "      <td>Male</td>\n",
       "      <td>131</td>\n",
       "      <td>Fury</td>\n",
       "      <td>1.44</td>\n",
       "    </tr>\n",
       "  </tbody>\n",
       "</table>\n",
       "</div>"
      ],
      "text/plain": [
       "   Purchase ID             SN  Age Gender  Item ID  \\\n",
       "0            0        Lisim78   20   Male      108   \n",
       "1            1    Lisovynya38   40   Male      143   \n",
       "2            2     Ithergue48   24   Male       92   \n",
       "3            3  Chamassasya86   24   Male      100   \n",
       "4            4      Iskosia90   23   Male      131   \n",
       "\n",
       "                                   Item Name  Price  \n",
       "0  Extraction, Quickblade Of Trembling Hands   3.53  \n",
       "1                          Frenzied Scimitar   1.56  \n",
       "2                               Final Critic   4.88  \n",
       "3                                Blindscythe   3.27  \n",
       "4                                       Fury   1.44  "
      ]
     },
     "execution_count": 1,
     "metadata": {},
     "output_type": "execute_result"
    }
   ],
   "source": [
    "import pandas as pd\n",
    "import numpy as np\n",
    "\n",
    "Pymoli_data = \"purchase_data.csv\"\n",
    "df = pd.read_csv(Pymoli_data)\n",
    "df.head()"
   ]
  },
  {
   "cell_type": "code",
   "execution_count": 2,
   "metadata": {},
   "outputs": [
    {
     "data": {
      "text/plain": [
       "576"
      ]
     },
     "execution_count": 2,
     "metadata": {},
     "output_type": "execute_result"
    }
   ],
   "source": [
    "players = df['SN'].nunique()\n",
    "players"
   ]
  },
  {
   "cell_type": "markdown",
   "metadata": {},
   "source": [
    "## Purchasing Analysis (Total)"
   ]
  },
  {
   "cell_type": "markdown",
   "metadata": {},
   "source": [
    "* Run basic calculations to obtain number of unique items, average price, etc.\n",
    "* Create a summary data frame to hold the results\n",
    "* Display the summary data frame"
   ]
  },
  {
   "cell_type": "code",
   "execution_count": 3,
   "metadata": {
    "scrolled": true
   },
   "outputs": [
    {
     "data": {
      "text/html": [
       "<style  type=\"text/css\" >\n",
       "</style><table id=\"T_e2904b98_45f6_11e9_94cc_7c76359e78c9\" ><thead>    <tr>        <th class=\"blank level0\" ></th>        <th class=\"col_heading level0 col0\" >Number of Unique Items</th>        <th class=\"col_heading level0 col1\" >Average Price</th>        <th class=\"col_heading level0 col2\" >Number of Purchases</th>        <th class=\"col_heading level0 col3\" >Total Revenue</th>    </tr></thead><tbody>\n",
       "                <tr>\n",
       "                        <th id=\"T_e2904b98_45f6_11e9_94cc_7c76359e78c9level0_row0\" class=\"row_heading level0 row0\" >0</th>\n",
       "                        <td id=\"T_e2904b98_45f6_11e9_94cc_7c76359e78c9row0_col0\" class=\"data row0 col0\" >183</td>\n",
       "                        <td id=\"T_e2904b98_45f6_11e9_94cc_7c76359e78c9row0_col1\" class=\"data row0 col1\" >$3.05</td>\n",
       "                        <td id=\"T_e2904b98_45f6_11e9_94cc_7c76359e78c9row0_col2\" class=\"data row0 col2\" >780</td>\n",
       "                        <td id=\"T_e2904b98_45f6_11e9_94cc_7c76359e78c9row0_col3\" class=\"data row0 col3\" >$2379.77</td>\n",
       "            </tr>\n",
       "    </tbody></table>"
      ],
      "text/plain": [
       "<pandas.io.formats.style.Styler at 0x14a50763390>"
      ]
     },
     "execution_count": 3,
     "metadata": {},
     "output_type": "execute_result"
    }
   ],
   "source": [
    "total_items = df['Item ID'].nunique()\n",
    "avg_price = df['Price'].mean()\n",
    "total_purchases = df['Purchase ID'].count()\n",
    "total_sales = df['Price'].sum()\n",
    "\n",
    "columns = ['Number of Unique Items', 'Average Price', 'Number of Purchases', 'Total Revenue']\n",
    "summ = pd.DataFrame({\n",
    "    \"Number of Unique Items\": [total_items],\n",
    "    \"Average Price\": [avg_price],\n",
    "    \"Number of Purchases\": [total_purchases],\n",
    "    \"Total Revenue\": [total_sales]\n",
    "})\n",
    "summ = summ.style.format({'Average Price': '${:.3}', 'Total Revenue': '${:.6}'})\n",
    "summ"
   ]
  },
  {
   "cell_type": "markdown",
   "metadata": {},
   "source": [
    "## Gender Demographics"
   ]
  },
  {
   "cell_type": "markdown",
   "metadata": {},
   "source": [
    "* Percentage and Count of Male Players\n",
    "* Percentage and Count of Female Players\n",
    "* Percentage and Count of Other / Non-Disclosed"
   ]
  },
  {
   "cell_type": "code",
   "execution_count": 4,
   "metadata": {},
   "outputs": [
    {
     "data": {
      "text/html": [
       "<style  type=\"text/css\" >\n",
       "</style><table id=\"T_e2ad5ca2_45f6_11e9_8e48_7c76359e78c9\" ><thead>    <tr>        <th class=\"blank level0\" ></th>        <th class=\"col_heading level0 col0\" >Total Count</th>        <th class=\"col_heading level0 col1\" >Percentage</th>    </tr></thead><tbody>\n",
       "                <tr>\n",
       "                        <th id=\"T_e2ad5ca2_45f6_11e9_8e48_7c76359e78c9level0_row0\" class=\"row_heading level0 row0\" >Male</th>\n",
       "                        <td id=\"T_e2ad5ca2_45f6_11e9_8e48_7c76359e78c9row0_col0\" class=\"data row0 col0\" >484</td>\n",
       "                        <td id=\"T_e2ad5ca2_45f6_11e9_8e48_7c76359e78c9row0_col1\" class=\"data row0 col1\" >84.03%</td>\n",
       "            </tr>\n",
       "            <tr>\n",
       "                        <th id=\"T_e2ad5ca2_45f6_11e9_8e48_7c76359e78c9level0_row1\" class=\"row_heading level0 row1\" >Female</th>\n",
       "                        <td id=\"T_e2ad5ca2_45f6_11e9_8e48_7c76359e78c9row1_col0\" class=\"data row1 col0\" >81</td>\n",
       "                        <td id=\"T_e2ad5ca2_45f6_11e9_8e48_7c76359e78c9row1_col1\" class=\"data row1 col1\" >14.06%</td>\n",
       "            </tr>\n",
       "            <tr>\n",
       "                        <th id=\"T_e2ad5ca2_45f6_11e9_8e48_7c76359e78c9level0_row2\" class=\"row_heading level0 row2\" >Other / Non-Disclosed</th>\n",
       "                        <td id=\"T_e2ad5ca2_45f6_11e9_8e48_7c76359e78c9row2_col0\" class=\"data row2 col0\" >11</td>\n",
       "                        <td id=\"T_e2ad5ca2_45f6_11e9_8e48_7c76359e78c9row2_col1\" class=\"data row2 col1\" >1.91%</td>\n",
       "            </tr>\n",
       "    </tbody></table>"
      ],
      "text/plain": [
       "<pandas.io.formats.style.Styler at 0x14a516adf28>"
      ]
     },
     "execution_count": 4,
     "metadata": {},
     "output_type": "execute_result"
    }
   ],
   "source": [
    "demo = df.loc[:, ['SN', 'Age', 'Gender']].drop_duplicates()\n",
    "demo = demo['Gender'].value_counts()\n",
    "demo_pct = demo/players*100\n",
    "genDemo_summary = pd.DataFrame({\n",
    "    \"Total Count\": demo, \n",
    "    \"Percentage\": demo_pct\n",
    "}).style.format({'Percentage': '{:.4}%'})\n",
    "genDemo_summary"
   ]
  },
  {
   "cell_type": "markdown",
   "metadata": {},
   "source": [
    "\n",
    "## Purchasing Analysis (Gender)"
   ]
  },
  {
   "cell_type": "markdown",
   "metadata": {},
   "source": [
    "* Run basic calculations to obtain purchase count, avg. purchase price, avg. purchase total per person etc. by gender\n",
    "* Create a summary data frame to hold the results\n",
    "* Display the summary data frame"
   ]
  },
  {
   "cell_type": "code",
   "execution_count": 5,
   "metadata": {},
   "outputs": [
    {
     "data": {
      "text/html": [
       "<style  type=\"text/css\" >\n",
       "</style><table id=\"T_e2b06a00_45f6_11e9_a0cd_7c76359e78c9\" ><thead>    <tr>        <th class=\"blank level0\" ></th>        <th class=\"col_heading level0 col0\" >Purchase Count</th>        <th class=\"col_heading level0 col1\" >Average Purchase Price</th>        <th class=\"col_heading level0 col2\" >Total Sales per Person</th>        <th class=\"col_heading level0 col3\" >Avg Sale per Person</th>    </tr>    <tr>        <th class=\"index_name level0\" >Gender</th>        <th class=\"blank\" ></th>        <th class=\"blank\" ></th>        <th class=\"blank\" ></th>        <th class=\"blank\" ></th>    </tr></thead><tbody>\n",
       "                <tr>\n",
       "                        <th id=\"T_e2b06a00_45f6_11e9_a0cd_7c76359e78c9level0_row0\" class=\"row_heading level0 row0\" >Female</th>\n",
       "                        <td id=\"T_e2b06a00_45f6_11e9_a0cd_7c76359e78c9row0_col0\" class=\"data row0 col0\" >113</td>\n",
       "                        <td id=\"T_e2b06a00_45f6_11e9_a0cd_7c76359e78c9row0_col1\" class=\"data row0 col1\" >$3.2</td>\n",
       "                        <td id=\"T_e2b06a00_45f6_11e9_a0cd_7c76359e78c9row0_col2\" class=\"data row0 col2\" >$361.94</td>\n",
       "                        <td id=\"T_e2b06a00_45f6_11e9_a0cd_7c76359e78c9row0_col3\" class=\"data row0 col3\" >$4.47</td>\n",
       "            </tr>\n",
       "            <tr>\n",
       "                        <th id=\"T_e2b06a00_45f6_11e9_a0cd_7c76359e78c9level0_row1\" class=\"row_heading level0 row1\" >Male</th>\n",
       "                        <td id=\"T_e2b06a00_45f6_11e9_a0cd_7c76359e78c9row1_col0\" class=\"data row1 col0\" >652</td>\n",
       "                        <td id=\"T_e2b06a00_45f6_11e9_a0cd_7c76359e78c9row1_col1\" class=\"data row1 col1\" >$3.02</td>\n",
       "                        <td id=\"T_e2b06a00_45f6_11e9_a0cd_7c76359e78c9row1_col2\" class=\"data row1 col2\" >$1967.64</td>\n",
       "                        <td id=\"T_e2b06a00_45f6_11e9_a0cd_7c76359e78c9row1_col3\" class=\"data row1 col3\" >$4.07</td>\n",
       "            </tr>\n",
       "            <tr>\n",
       "                        <th id=\"T_e2b06a00_45f6_11e9_a0cd_7c76359e78c9level0_row2\" class=\"row_heading level0 row2\" >Other / Non-Disclosed</th>\n",
       "                        <td id=\"T_e2b06a00_45f6_11e9_a0cd_7c76359e78c9row2_col0\" class=\"data row2 col0\" >15</td>\n",
       "                        <td id=\"T_e2b06a00_45f6_11e9_a0cd_7c76359e78c9row2_col1\" class=\"data row2 col1\" >$3.35</td>\n",
       "                        <td id=\"T_e2b06a00_45f6_11e9_a0cd_7c76359e78c9row2_col2\" class=\"data row2 col2\" >$50.19</td>\n",
       "                        <td id=\"T_e2b06a00_45f6_11e9_a0cd_7c76359e78c9row2_col3\" class=\"data row2 col3\" >$4.56</td>\n",
       "            </tr>\n",
       "    </tbody></table>"
      ],
      "text/plain": [
       "<pandas.io.formats.style.Styler at 0x14a51718940>"
      ]
     },
     "execution_count": 5,
     "metadata": {},
     "output_type": "execute_result"
    }
   ],
   "source": [
    "sales_analysis = df.groupby([\"Gender\"])[\"Price\"].agg(['sum', 'count', 'mean'])\n",
    "gen_sales_total = sales_analysis['sum']\n",
    "avg_individual_sales = gen_sales_total.div(demo)\n",
    "gen_sales_summary = pd.DataFrame({\n",
    "                    \"Purchase Count\": sales_analysis['count'],\n",
    "                    \"Average Purchase Price\": sales_analysis['mean'],\n",
    "                    \"Total Sales per Person\": sales_analysis['sum'],\n",
    "                    \"Avg Sale per Person\": avg_individual_sales\n",
    "}).style.format({'Average Purchase Price': '${:.3}', \n",
    "                    'Total Sales per Person': '${:.6}', \n",
    "                    'Avg Sale per Person': '${:.3}'})\n",
    "gen_sales_summary"
   ]
  },
  {
   "cell_type": "markdown",
   "metadata": {},
   "source": [
    "## Age Demographics"
   ]
  },
  {
   "cell_type": "markdown",
   "metadata": {},
   "source": [
    "* Establish bins for ages\n",
    "* Categorize the existing players using the age bins. Hint: use pd.cut()\n",
    "* Calculate the numbers and percentages by age group\n",
    "* Create a summary data frame to hold the results\n",
    "* Display Age Demographics Table"
   ]
  },
  {
   "cell_type": "code",
   "execution_count": 6,
   "metadata": {},
   "outputs": [
    {
     "data": {
      "text/html": [
       "<div>\n",
       "<style scoped>\n",
       "    .dataframe tbody tr th:only-of-type {\n",
       "        vertical-align: middle;\n",
       "    }\n",
       "\n",
       "    .dataframe tbody tr th {\n",
       "        vertical-align: top;\n",
       "    }\n",
       "\n",
       "    .dataframe thead th {\n",
       "        text-align: right;\n",
       "    }\n",
       "</style>\n",
       "<table border=\"1\" class=\"dataframe\">\n",
       "  <thead>\n",
       "    <tr style=\"text-align: right;\">\n",
       "      <th></th>\n",
       "      <th>Age Range Count</th>\n",
       "      <th>Percentage</th>\n",
       "    </tr>\n",
       "  </thead>\n",
       "  <tbody>\n",
       "    <tr>\n",
       "      <th>&lt;10</th>\n",
       "      <td>17</td>\n",
       "      <td>2.95%</td>\n",
       "    </tr>\n",
       "    <tr>\n",
       "      <th>10-14</th>\n",
       "      <td>22</td>\n",
       "      <td>3.82%</td>\n",
       "    </tr>\n",
       "    <tr>\n",
       "      <th>15-19</th>\n",
       "      <td>107</td>\n",
       "      <td>18.58%</td>\n",
       "    </tr>\n",
       "    <tr>\n",
       "      <th>20-24</th>\n",
       "      <td>258</td>\n",
       "      <td>44.79%</td>\n",
       "    </tr>\n",
       "    <tr>\n",
       "      <th>25-29</th>\n",
       "      <td>77</td>\n",
       "      <td>13.37%</td>\n",
       "    </tr>\n",
       "    <tr>\n",
       "      <th>30-34</th>\n",
       "      <td>52</td>\n",
       "      <td>9.03%</td>\n",
       "    </tr>\n",
       "    <tr>\n",
       "      <th>35-39</th>\n",
       "      <td>31</td>\n",
       "      <td>5.38%</td>\n",
       "    </tr>\n",
       "    <tr>\n",
       "      <th>40+</th>\n",
       "      <td>12</td>\n",
       "      <td>2.08%</td>\n",
       "    </tr>\n",
       "  </tbody>\n",
       "</table>\n",
       "</div>"
      ],
      "text/plain": [
       "       Age Range Count Percentage\n",
       "<10                 17      2.95%\n",
       "10-14               22      3.82%\n",
       "15-19              107     18.58%\n",
       "20-24              258     44.79%\n",
       "25-29               77     13.37%\n",
       "30-34               52      9.03%\n",
       "35-39               31      5.38%\n",
       "40+                 12      2.08%"
      ]
     },
     "execution_count": 6,
     "metadata": {},
     "output_type": "execute_result"
    }
   ],
   "source": [
    "ages = [0, 9.99, 14.99, 19.99, 24.99, 29.99, 34.99, 39.99, 1000]\n",
    "binnames = [\"<10\", \"10-14\", \"15-19\", \"20-24\", \"25-29\", \"30-34\", \"35-39\", \"40+\"]\n",
    "\n",
    "age_demo_df = df.loc[:, [\"SN\", \"Age\"]].drop_duplicates()\n",
    "ageDemo = age_demo_df[\"Age\"]\n",
    "ageDemo[\"Age\"] = pd.cut(ageDemo, ages, labels=binnames)\n",
    "ageDemo = (pd.DataFrame(ageDemo[\"Age\"].value_counts()))\n",
    "ageDemo.sort_index(inplace=True)\n",
    "ageDemo['Percentage'] =  pd.Series([\"{0:.2f}%\".format((age_count / players) * 100) for age_count in ageDemo[\"Age\"]], index = ageDemo.index)\n",
    "ageDemo.rename(columns={'Age': 'Age Range Count'}, inplace=True)\n",
    "ageDemo"
   ]
  },
  {
   "cell_type": "markdown",
   "metadata": {},
   "source": [
    "## Purchasing Analysis (Age)"
   ]
  },
  {
   "cell_type": "markdown",
   "metadata": {},
   "source": [
    "* Bin the purchase_data data frame by age\n",
    "* Run basic calculations to obtain purchase count, avg. purchase price, avg. purchase total per person etc. in the table below\n",
    "* Create a summary data frame to hold the results\n",
    "* Display the summary data frame"
   ]
  },
  {
   "cell_type": "code",
   "execution_count": 7,
   "metadata": {},
   "outputs": [
    {
     "data": {
      "text/html": [
       "<style  type=\"text/css\" >\n",
       "</style><table id=\"T_e2bf2acc_45f6_11e9_ad26_7c76359e78c9\" ><thead>    <tr>        <th class=\"blank level0\" ></th>        <th class=\"col_heading level0 col0\" >Purchase Count</th>        <th class=\"col_heading level0 col1\" >Average Purchase Price</th>        <th class=\"col_heading level0 col2\" >Total Sales per Person</th>        <th class=\"col_heading level0 col3\" >Avg Sales per Person</th>    </tr>    <tr>        <th class=\"index_name level0\" >Ages</th>        <th class=\"blank\" ></th>        <th class=\"blank\" ></th>        <th class=\"blank\" ></th>        <th class=\"blank\" ></th>    </tr></thead><tbody>\n",
       "                <tr>\n",
       "                        <th id=\"T_e2bf2acc_45f6_11e9_ad26_7c76359e78c9level0_row0\" class=\"row_heading level0 row0\" ><10</th>\n",
       "                        <td id=\"T_e2bf2acc_45f6_11e9_ad26_7c76359e78c9row0_col0\" class=\"data row0 col0\" >23</td>\n",
       "                        <td id=\"T_e2bf2acc_45f6_11e9_ad26_7c76359e78c9row0_col1\" class=\"data row0 col1\" >$3.35</td>\n",
       "                        <td id=\"T_e2bf2acc_45f6_11e9_ad26_7c76359e78c9row0_col2\" class=\"data row0 col2\" >$77.13</td>\n",
       "                        <td id=\"T_e2bf2acc_45f6_11e9_ad26_7c76359e78c9row0_col3\" class=\"data row0 col3\" >$4.54</td>\n",
       "            </tr>\n",
       "            <tr>\n",
       "                        <th id=\"T_e2bf2acc_45f6_11e9_ad26_7c76359e78c9level0_row1\" class=\"row_heading level0 row1\" >10-14</th>\n",
       "                        <td id=\"T_e2bf2acc_45f6_11e9_ad26_7c76359e78c9row1_col0\" class=\"data row1 col0\" >28</td>\n",
       "                        <td id=\"T_e2bf2acc_45f6_11e9_ad26_7c76359e78c9row1_col1\" class=\"data row1 col1\" >$2.96</td>\n",
       "                        <td id=\"T_e2bf2acc_45f6_11e9_ad26_7c76359e78c9row1_col2\" class=\"data row1 col2\" >$82.78</td>\n",
       "                        <td id=\"T_e2bf2acc_45f6_11e9_ad26_7c76359e78c9row1_col3\" class=\"data row1 col3\" >$3.76</td>\n",
       "            </tr>\n",
       "            <tr>\n",
       "                        <th id=\"T_e2bf2acc_45f6_11e9_ad26_7c76359e78c9level0_row2\" class=\"row_heading level0 row2\" >15-19</th>\n",
       "                        <td id=\"T_e2bf2acc_45f6_11e9_ad26_7c76359e78c9row2_col0\" class=\"data row2 col0\" >136</td>\n",
       "                        <td id=\"T_e2bf2acc_45f6_11e9_ad26_7c76359e78c9row2_col1\" class=\"data row2 col1\" >$3.04</td>\n",
       "                        <td id=\"T_e2bf2acc_45f6_11e9_ad26_7c76359e78c9row2_col2\" class=\"data row2 col2\" >$412.89</td>\n",
       "                        <td id=\"T_e2bf2acc_45f6_11e9_ad26_7c76359e78c9row2_col3\" class=\"data row2 col3\" >$3.86</td>\n",
       "            </tr>\n",
       "            <tr>\n",
       "                        <th id=\"T_e2bf2acc_45f6_11e9_ad26_7c76359e78c9level0_row3\" class=\"row_heading level0 row3\" >20-24</th>\n",
       "                        <td id=\"T_e2bf2acc_45f6_11e9_ad26_7c76359e78c9row3_col0\" class=\"data row3 col0\" >365</td>\n",
       "                        <td id=\"T_e2bf2acc_45f6_11e9_ad26_7c76359e78c9row3_col1\" class=\"data row3 col1\" >$3.05</td>\n",
       "                        <td id=\"T_e2bf2acc_45f6_11e9_ad26_7c76359e78c9row3_col2\" class=\"data row3 col2\" >$1114.06</td>\n",
       "                        <td id=\"T_e2bf2acc_45f6_11e9_ad26_7c76359e78c9row3_col3\" class=\"data row3 col3\" >$4.32</td>\n",
       "            </tr>\n",
       "            <tr>\n",
       "                        <th id=\"T_e2bf2acc_45f6_11e9_ad26_7c76359e78c9level0_row4\" class=\"row_heading level0 row4\" >25-29</th>\n",
       "                        <td id=\"T_e2bf2acc_45f6_11e9_ad26_7c76359e78c9row4_col0\" class=\"data row4 col0\" >101</td>\n",
       "                        <td id=\"T_e2bf2acc_45f6_11e9_ad26_7c76359e78c9row4_col1\" class=\"data row4 col1\" >$2.9</td>\n",
       "                        <td id=\"T_e2bf2acc_45f6_11e9_ad26_7c76359e78c9row4_col2\" class=\"data row4 col2\" >$293.0</td>\n",
       "                        <td id=\"T_e2bf2acc_45f6_11e9_ad26_7c76359e78c9row4_col3\" class=\"data row4 col3\" >$3.81</td>\n",
       "            </tr>\n",
       "    </tbody></table>"
      ],
      "text/plain": [
       "<pandas.io.formats.style.Styler at 0x14a51736588>"
      ]
     },
     "execution_count": 7,
     "metadata": {},
     "output_type": "execute_result"
    }
   ],
   "source": [
    "df[\"Ages\"] = pd.cut(df[\"Age\"], ages, labels=binnames)\n",
    "sales_by_age = df.groupby([\"Ages\"])[\"Price\"].agg(['sum', 'count', 'mean'])\n",
    "\n",
    "sales_by_age_summary = pd.DataFrame({\n",
    "                    \"Purchase Count\": sales_by_age['count'],\n",
    "                    \"Average Purchase Price\": sales_by_age['mean'],\n",
    "                    \"Total Sales per Person\": sales_by_age['sum'],\n",
    "                    \"Avg Sales per Person\": sales_by_age['sum'] / \\\n",
    "                    ageDemo['Age Range Count']\n",
    "}).head(5).style.format({'Average Purchase Price': '${:.3}', \n",
    "                    'Total Sales per Person': '${:.6}', \n",
    "                    'Avg Sales per Person': '${:.3}'})\n",
    "sales_by_age_summary"
   ]
  },
  {
   "cell_type": "markdown",
   "metadata": {},
   "source": [
    "## Top Spenders"
   ]
  },
  {
   "cell_type": "markdown",
   "metadata": {},
   "source": [
    "* Run basic calculations to obtain the results in the table below\n",
    "* Create a summary data frame to hold the results\n",
    "* Sort the total purchase value column in descending order\n",
    "* Display a preview of the summary data frame"
   ]
  },
  {
   "cell_type": "code",
   "execution_count": 8,
   "metadata": {},
   "outputs": [
    {
     "data": {
      "text/html": [
       "<style  type=\"text/css\" >\n",
       "</style><table id=\"T_e2c2d1cc_45f6_11e9_9775_7c76359e78c9\" ><thead>    <tr>        <th class=\"blank level0\" ></th>        <th class=\"col_heading level0 col0\" >Purchase Count</th>        <th class=\"col_heading level0 col1\" >Average Purchase Price</th>        <th class=\"col_heading level0 col2\" >Total Sales per Person</th>    </tr>    <tr>        <th class=\"index_name level0\" >SN</th>        <th class=\"blank\" ></th>        <th class=\"blank\" ></th>        <th class=\"blank\" ></th>    </tr></thead><tbody>\n",
       "                <tr>\n",
       "                        <th id=\"T_e2c2d1cc_45f6_11e9_9775_7c76359e78c9level0_row0\" class=\"row_heading level0 row0\" >Lisosia93</th>\n",
       "                        <td id=\"T_e2c2d1cc_45f6_11e9_9775_7c76359e78c9row0_col0\" class=\"data row0 col0\" >5</td>\n",
       "                        <td id=\"T_e2c2d1cc_45f6_11e9_9775_7c76359e78c9row0_col1\" class=\"data row0 col1\" >$3.79</td>\n",
       "                        <td id=\"T_e2c2d1cc_45f6_11e9_9775_7c76359e78c9row0_col2\" class=\"data row0 col2\" >$18.96</td>\n",
       "            </tr>\n",
       "            <tr>\n",
       "                        <th id=\"T_e2c2d1cc_45f6_11e9_9775_7c76359e78c9level0_row1\" class=\"row_heading level0 row1\" >Idastidru52</th>\n",
       "                        <td id=\"T_e2c2d1cc_45f6_11e9_9775_7c76359e78c9row1_col0\" class=\"data row1 col0\" >4</td>\n",
       "                        <td id=\"T_e2c2d1cc_45f6_11e9_9775_7c76359e78c9row1_col1\" class=\"data row1 col1\" >$3.86</td>\n",
       "                        <td id=\"T_e2c2d1cc_45f6_11e9_9775_7c76359e78c9row1_col2\" class=\"data row1 col2\" >$15.45</td>\n",
       "            </tr>\n",
       "            <tr>\n",
       "                        <th id=\"T_e2c2d1cc_45f6_11e9_9775_7c76359e78c9level0_row2\" class=\"row_heading level0 row2\" >Chamjask73</th>\n",
       "                        <td id=\"T_e2c2d1cc_45f6_11e9_9775_7c76359e78c9row2_col0\" class=\"data row2 col0\" >3</td>\n",
       "                        <td id=\"T_e2c2d1cc_45f6_11e9_9775_7c76359e78c9row2_col1\" class=\"data row2 col1\" >$4.61</td>\n",
       "                        <td id=\"T_e2c2d1cc_45f6_11e9_9775_7c76359e78c9row2_col2\" class=\"data row2 col2\" >$13.83</td>\n",
       "            </tr>\n",
       "            <tr>\n",
       "                        <th id=\"T_e2c2d1cc_45f6_11e9_9775_7c76359e78c9level0_row3\" class=\"row_heading level0 row3\" >Iral74</th>\n",
       "                        <td id=\"T_e2c2d1cc_45f6_11e9_9775_7c76359e78c9row3_col0\" class=\"data row3 col0\" >4</td>\n",
       "                        <td id=\"T_e2c2d1cc_45f6_11e9_9775_7c76359e78c9row3_col1\" class=\"data row3 col1\" >$3.4</td>\n",
       "                        <td id=\"T_e2c2d1cc_45f6_11e9_9775_7c76359e78c9row3_col2\" class=\"data row3 col2\" >$13.62</td>\n",
       "            </tr>\n",
       "            <tr>\n",
       "                        <th id=\"T_e2c2d1cc_45f6_11e9_9775_7c76359e78c9level0_row4\" class=\"row_heading level0 row4\" >Iskadarya95</th>\n",
       "                        <td id=\"T_e2c2d1cc_45f6_11e9_9775_7c76359e78c9row4_col0\" class=\"data row4 col0\" >3</td>\n",
       "                        <td id=\"T_e2c2d1cc_45f6_11e9_9775_7c76359e78c9row4_col1\" class=\"data row4 col1\" >$4.37</td>\n",
       "                        <td id=\"T_e2c2d1cc_45f6_11e9_9775_7c76359e78c9row4_col2\" class=\"data row4 col2\" >$13.1</td>\n",
       "            </tr>\n",
       "    </tbody></table>"
      ],
      "text/plain": [
       "<pandas.io.formats.style.Styler at 0x14a517360f0>"
      ]
     },
     "execution_count": 8,
     "metadata": {},
     "output_type": "execute_result"
    }
   ],
   "source": [
    "indv_user_sales = df.groupby([\"SN\"])[\"Price\"].agg(['sum', 'count', 'mean'])\n",
    "\n",
    "indv_user_sales_summary = pd.DataFrame({\n",
    "                    \"Purchase Count\": indv_user_sales['count'],\n",
    "                    \"Average Purchase Price\": indv_user_sales['mean'],\n",
    "                    \"Total Sales per Person\": indv_user_sales['sum']\n",
    "}).sort_values(\"Total Sales per Person\", ascending=False) \\\n",
    "                    .head(5).style.format({'Average Purchase Price': '${:.3}', \n",
    "                    'Total Sales per Person': '${:.6}', \n",
    "                    'Avg Sale per Person': '${:.3}'})\n",
    "indv_user_sales_summary"
   ]
  },
  {
   "cell_type": "markdown",
   "metadata": {},
   "source": [
    "### Most Popular Items"
   ]
  },
  {
   "cell_type": "markdown",
   "metadata": {},
   "source": [
    "* Retrieve the Item ID, Item Name, and Item Price columns\n",
    "* Group by Item ID and Item Name. Perform calculations to obtain purchase count, item price, and total purchase value\n",
    "* Create a summary data frame to hold the results\n",
    "* Sort the purchase count column in descending order\n",
    "* Display a preview of the summary data frame"
   ]
  },
  {
   "cell_type": "code",
   "execution_count": 19,
   "metadata": {},
   "outputs": [
    {
     "data": {
      "text/html": [
       "<style  type=\"text/css\" >\n",
       "</style><table id=\"T_0e7ff9ba_45fb_11e9_b4b8_7c76359e78c9\" ><thead>    <tr>        <th class=\"blank\" ></th>        <th class=\"blank level0\" ></th>        <th class=\"col_heading level0 col0\" >Item Total Sales</th>        <th class=\"col_heading level0 col1\" >Purchase Count</th>        <th class=\"col_heading level0 col2\" >Avg Item Price</th>    </tr>    <tr>        <th class=\"index_name level0\" >Item ID</th>        <th class=\"index_name level1\" >Item Name</th>        <th class=\"blank\" ></th>        <th class=\"blank\" ></th>        <th class=\"blank\" ></th>    </tr></thead><tbody>\n",
       "                <tr>\n",
       "                        <th id=\"T_0e7ff9ba_45fb_11e9_b4b8_7c76359e78c9level0_row0\" class=\"row_heading level0 row0\" >178</th>\n",
       "                        <th id=\"T_0e7ff9ba_45fb_11e9_b4b8_7c76359e78c9level1_row0\" class=\"row_heading level1 row0\" >Oathbreaker, Last Hope of the Breaking Storm</th>\n",
       "                        <td id=\"T_0e7ff9ba_45fb_11e9_b4b8_7c76359e78c9row0_col0\" class=\"data row0 col0\" >$50.76</td>\n",
       "                        <td id=\"T_0e7ff9ba_45fb_11e9_b4b8_7c76359e78c9row0_col1\" class=\"data row0 col1\" >12</td>\n",
       "                        <td id=\"T_0e7ff9ba_45fb_11e9_b4b8_7c76359e78c9row0_col2\" class=\"data row0 col2\" >$4.23</td>\n",
       "            </tr>\n",
       "            <tr>\n",
       "                        <th id=\"T_0e7ff9ba_45fb_11e9_b4b8_7c76359e78c9level0_row1\" class=\"row_heading level0 row1\" >145</th>\n",
       "                        <th id=\"T_0e7ff9ba_45fb_11e9_b4b8_7c76359e78c9level1_row1\" class=\"row_heading level1 row1\" >Fiery Glass Crusader</th>\n",
       "                        <td id=\"T_0e7ff9ba_45fb_11e9_b4b8_7c76359e78c9row1_col0\" class=\"data row1 col0\" >$41.22</td>\n",
       "                        <td id=\"T_0e7ff9ba_45fb_11e9_b4b8_7c76359e78c9row1_col1\" class=\"data row1 col1\" >9</td>\n",
       "                        <td id=\"T_0e7ff9ba_45fb_11e9_b4b8_7c76359e78c9row1_col2\" class=\"data row1 col2\" >$4.58</td>\n",
       "            </tr>\n",
       "            <tr>\n",
       "                        <th id=\"T_0e7ff9ba_45fb_11e9_b4b8_7c76359e78c9level0_row2\" class=\"row_heading level0 row2\" >108</th>\n",
       "                        <th id=\"T_0e7ff9ba_45fb_11e9_b4b8_7c76359e78c9level1_row2\" class=\"row_heading level1 row2\" >Extraction, Quickblade Of Trembling Hands</th>\n",
       "                        <td id=\"T_0e7ff9ba_45fb_11e9_b4b8_7c76359e78c9row2_col0\" class=\"data row2 col0\" >$31.77</td>\n",
       "                        <td id=\"T_0e7ff9ba_45fb_11e9_b4b8_7c76359e78c9row2_col1\" class=\"data row2 col1\" >9</td>\n",
       "                        <td id=\"T_0e7ff9ba_45fb_11e9_b4b8_7c76359e78c9row2_col2\" class=\"data row2 col2\" >$3.53</td>\n",
       "            </tr>\n",
       "            <tr>\n",
       "                        <th id=\"T_0e7ff9ba_45fb_11e9_b4b8_7c76359e78c9level0_row3\" class=\"row_heading level0 row3\" >82</th>\n",
       "                        <th id=\"T_0e7ff9ba_45fb_11e9_b4b8_7c76359e78c9level1_row3\" class=\"row_heading level1 row3\" >Nirvana</th>\n",
       "                        <td id=\"T_0e7ff9ba_45fb_11e9_b4b8_7c76359e78c9row3_col0\" class=\"data row3 col0\" >$44.1</td>\n",
       "                        <td id=\"T_0e7ff9ba_45fb_11e9_b4b8_7c76359e78c9row3_col1\" class=\"data row3 col1\" >9</td>\n",
       "                        <td id=\"T_0e7ff9ba_45fb_11e9_b4b8_7c76359e78c9row3_col2\" class=\"data row3 col2\" >$4.9</td>\n",
       "            </tr>\n",
       "            <tr>\n",
       "                        <th id=\"T_0e7ff9ba_45fb_11e9_b4b8_7c76359e78c9level0_row4\" class=\"row_heading level0 row4\" >19</th>\n",
       "                        <th id=\"T_0e7ff9ba_45fb_11e9_b4b8_7c76359e78c9level1_row4\" class=\"row_heading level1 row4\" >Pursuit, Cudgel of Necromancy</th>\n",
       "                        <td id=\"T_0e7ff9ba_45fb_11e9_b4b8_7c76359e78c9row4_col0\" class=\"data row4 col0\" >$8.16</td>\n",
       "                        <td id=\"T_0e7ff9ba_45fb_11e9_b4b8_7c76359e78c9row4_col1\" class=\"data row4 col1\" >8</td>\n",
       "                        <td id=\"T_0e7ff9ba_45fb_11e9_b4b8_7c76359e78c9row4_col2\" class=\"data row4 col2\" >$1.02</td>\n",
       "            </tr>\n",
       "            <tr>\n",
       "                        <th id=\"T_0e7ff9ba_45fb_11e9_b4b8_7c76359e78c9level0_row5\" class=\"row_heading level0 row5\" >103</th>\n",
       "                        <th id=\"T_0e7ff9ba_45fb_11e9_b4b8_7c76359e78c9level1_row5\" class=\"row_heading level1 row5\" >Singed Scalpel</th>\n",
       "                        <td id=\"T_0e7ff9ba_45fb_11e9_b4b8_7c76359e78c9row5_col0\" class=\"data row5 col0\" >$34.8</td>\n",
       "                        <td id=\"T_0e7ff9ba_45fb_11e9_b4b8_7c76359e78c9row5_col1\" class=\"data row5 col1\" >8</td>\n",
       "                        <td id=\"T_0e7ff9ba_45fb_11e9_b4b8_7c76359e78c9row5_col2\" class=\"data row5 col2\" >$4.35</td>\n",
       "            </tr>\n",
       "            <tr>\n",
       "                        <th id=\"T_0e7ff9ba_45fb_11e9_b4b8_7c76359e78c9level0_row6\" class=\"row_heading level0 row6\" >75</th>\n",
       "                        <th id=\"T_0e7ff9ba_45fb_11e9_b4b8_7c76359e78c9level1_row6\" class=\"row_heading level1 row6\" >Brutality Ivory Warmace</th>\n",
       "                        <td id=\"T_0e7ff9ba_45fb_11e9_b4b8_7c76359e78c9row6_col0\" class=\"data row6 col0\" >$19.36</td>\n",
       "                        <td id=\"T_0e7ff9ba_45fb_11e9_b4b8_7c76359e78c9row6_col1\" class=\"data row6 col1\" >8</td>\n",
       "                        <td id=\"T_0e7ff9ba_45fb_11e9_b4b8_7c76359e78c9row6_col2\" class=\"data row6 col2\" >$2.42</td>\n",
       "            </tr>\n",
       "            <tr>\n",
       "                        <th id=\"T_0e7ff9ba_45fb_11e9_b4b8_7c76359e78c9level0_row7\" class=\"row_heading level0 row7\" >72</th>\n",
       "                        <th id=\"T_0e7ff9ba_45fb_11e9_b4b8_7c76359e78c9level1_row7\" class=\"row_heading level1 row7\" >Winter's Bite</th>\n",
       "                        <td id=\"T_0e7ff9ba_45fb_11e9_b4b8_7c76359e78c9row7_col0\" class=\"data row7 col0\" >$30.16</td>\n",
       "                        <td id=\"T_0e7ff9ba_45fb_11e9_b4b8_7c76359e78c9row7_col1\" class=\"data row7 col1\" >8</td>\n",
       "                        <td id=\"T_0e7ff9ba_45fb_11e9_b4b8_7c76359e78c9row7_col2\" class=\"data row7 col2\" >$3.77</td>\n",
       "            </tr>\n",
       "            <tr>\n",
       "                        <th id=\"T_0e7ff9ba_45fb_11e9_b4b8_7c76359e78c9level0_row8\" class=\"row_heading level0 row8\" >60</th>\n",
       "                        <th id=\"T_0e7ff9ba_45fb_11e9_b4b8_7c76359e78c9level1_row8\" class=\"row_heading level1 row8\" >Wolf</th>\n",
       "                        <td id=\"T_0e7ff9ba_45fb_11e9_b4b8_7c76359e78c9row8_col0\" class=\"data row8 col0\" >$28.32</td>\n",
       "                        <td id=\"T_0e7ff9ba_45fb_11e9_b4b8_7c76359e78c9row8_col1\" class=\"data row8 col1\" >8</td>\n",
       "                        <td id=\"T_0e7ff9ba_45fb_11e9_b4b8_7c76359e78c9row8_col2\" class=\"data row8 col2\" >$3.54</td>\n",
       "            </tr>\n",
       "            <tr>\n",
       "                        <th id=\"T_0e7ff9ba_45fb_11e9_b4b8_7c76359e78c9level0_row9\" class=\"row_heading level0 row9\" >59</th>\n",
       "                        <th id=\"T_0e7ff9ba_45fb_11e9_b4b8_7c76359e78c9level1_row9\" class=\"row_heading level1 row9\" >Lightning, Etcher of the King</th>\n",
       "                        <td id=\"T_0e7ff9ba_45fb_11e9_b4b8_7c76359e78c9row9_col0\" class=\"data row9 col0\" >$33.84</td>\n",
       "                        <td id=\"T_0e7ff9ba_45fb_11e9_b4b8_7c76359e78c9row9_col1\" class=\"data row9 col1\" >8</td>\n",
       "                        <td id=\"T_0e7ff9ba_45fb_11e9_b4b8_7c76359e78c9row9_col2\" class=\"data row9 col2\" >$4.23</td>\n",
       "            </tr>\n",
       "            <tr>\n",
       "                        <th id=\"T_0e7ff9ba_45fb_11e9_b4b8_7c76359e78c9level0_row10\" class=\"row_heading level0 row10\" >37</th>\n",
       "                        <th id=\"T_0e7ff9ba_45fb_11e9_b4b8_7c76359e78c9level1_row10\" class=\"row_heading level1 row10\" >Shadow Strike, Glory of Ending Hope</th>\n",
       "                        <td id=\"T_0e7ff9ba_45fb_11e9_b4b8_7c76359e78c9row10_col0\" class=\"data row10 col0\" >$25.28</td>\n",
       "                        <td id=\"T_0e7ff9ba_45fb_11e9_b4b8_7c76359e78c9row10_col1\" class=\"data row10 col1\" >8</td>\n",
       "                        <td id=\"T_0e7ff9ba_45fb_11e9_b4b8_7c76359e78c9row10_col2\" class=\"data row10 col2\" >$3.16</td>\n",
       "            </tr>\n",
       "            <tr>\n",
       "                        <th id=\"T_0e7ff9ba_45fb_11e9_b4b8_7c76359e78c9level0_row11\" class=\"row_heading level0 row11\" >34</th>\n",
       "                        <th id=\"T_0e7ff9ba_45fb_11e9_b4b8_7c76359e78c9level1_row11\" class=\"row_heading level1 row11\" >Retribution Axe</th>\n",
       "                        <td id=\"T_0e7ff9ba_45fb_11e9_b4b8_7c76359e78c9row11_col0\" class=\"data row11 col0\" >$17.76</td>\n",
       "                        <td id=\"T_0e7ff9ba_45fb_11e9_b4b8_7c76359e78c9row11_col1\" class=\"data row11 col1\" >8</td>\n",
       "                        <td id=\"T_0e7ff9ba_45fb_11e9_b4b8_7c76359e78c9row11_col2\" class=\"data row11 col2\" >$2.22</td>\n",
       "            </tr>\n",
       "            <tr>\n",
       "                        <th id=\"T_0e7ff9ba_45fb_11e9_b4b8_7c76359e78c9level0_row12\" class=\"row_heading level0 row12\" >92</th>\n",
       "                        <th id=\"T_0e7ff9ba_45fb_11e9_b4b8_7c76359e78c9level1_row12\" class=\"row_heading level1 row12\" >Final Critic</th>\n",
       "                        <td id=\"T_0e7ff9ba_45fb_11e9_b4b8_7c76359e78c9row12_col0\" class=\"data row12 col0\" >$39.04</td>\n",
       "                        <td id=\"T_0e7ff9ba_45fb_11e9_b4b8_7c76359e78c9row12_col1\" class=\"data row12 col1\" >8</td>\n",
       "                        <td id=\"T_0e7ff9ba_45fb_11e9_b4b8_7c76359e78c9row12_col2\" class=\"data row12 col2\" >$4.88</td>\n",
       "            </tr>\n",
       "            <tr>\n",
       "                        <th id=\"T_0e7ff9ba_45fb_11e9_b4b8_7c76359e78c9level0_row13\" class=\"row_heading level0 row13\" >53</th>\n",
       "                        <th id=\"T_0e7ff9ba_45fb_11e9_b4b8_7c76359e78c9level1_row13\" class=\"row_heading level1 row13\" >Vengeance Cleaver</th>\n",
       "                        <td id=\"T_0e7ff9ba_45fb_11e9_b4b8_7c76359e78c9row13_col0\" class=\"data row13 col0\" >$14.35</td>\n",
       "                        <td id=\"T_0e7ff9ba_45fb_11e9_b4b8_7c76359e78c9row13_col1\" class=\"data row13 col1\" >7</td>\n",
       "                        <td id=\"T_0e7ff9ba_45fb_11e9_b4b8_7c76359e78c9row13_col2\" class=\"data row13 col2\" >$2.05</td>\n",
       "            </tr>\n",
       "            <tr>\n",
       "                        <th id=\"T_0e7ff9ba_45fb_11e9_b4b8_7c76359e78c9level0_row14\" class=\"row_heading level0 row14\" >110</th>\n",
       "                        <th id=\"T_0e7ff9ba_45fb_11e9_b4b8_7c76359e78c9level1_row14\" class=\"row_heading level1 row14\" >Suspension</th>\n",
       "                        <td id=\"T_0e7ff9ba_45fb_11e9_b4b8_7c76359e78c9row14_col0\" class=\"data row14 col0\" >$10.08</td>\n",
       "                        <td id=\"T_0e7ff9ba_45fb_11e9_b4b8_7c76359e78c9row14_col1\" class=\"data row14 col1\" >7</td>\n",
       "                        <td id=\"T_0e7ff9ba_45fb_11e9_b4b8_7c76359e78c9row14_col2\" class=\"data row14 col2\" >$1.44</td>\n",
       "            </tr>\n",
       "            <tr>\n",
       "                        <th id=\"T_0e7ff9ba_45fb_11e9_b4b8_7c76359e78c9level0_row15\" class=\"row_heading level0 row15\" >7</th>\n",
       "                        <th id=\"T_0e7ff9ba_45fb_11e9_b4b8_7c76359e78c9level1_row15\" class=\"row_heading level1 row15\" >Thorn, Satchel of Dark Souls</th>\n",
       "                        <td id=\"T_0e7ff9ba_45fb_11e9_b4b8_7c76359e78c9row15_col0\" class=\"data row15 col0\" >$9.31</td>\n",
       "                        <td id=\"T_0e7ff9ba_45fb_11e9_b4b8_7c76359e78c9row15_col1\" class=\"data row15 col1\" >7</td>\n",
       "                        <td id=\"T_0e7ff9ba_45fb_11e9_b4b8_7c76359e78c9row15_col2\" class=\"data row15 col2\" >$1.33</td>\n",
       "            </tr>\n",
       "            <tr>\n",
       "                        <th id=\"T_0e7ff9ba_45fb_11e9_b4b8_7c76359e78c9level0_row16\" class=\"row_heading level0 row16\" >71</th>\n",
       "                        <th id=\"T_0e7ff9ba_45fb_11e9_b4b8_7c76359e78c9level1_row16\" class=\"row_heading level1 row16\" >Demise</th>\n",
       "                        <td id=\"T_0e7ff9ba_45fb_11e9_b4b8_7c76359e78c9row16_col0\" class=\"data row16 col0\" >$11.27</td>\n",
       "                        <td id=\"T_0e7ff9ba_45fb_11e9_b4b8_7c76359e78c9row16_col1\" class=\"data row16 col1\" >7</td>\n",
       "                        <td id=\"T_0e7ff9ba_45fb_11e9_b4b8_7c76359e78c9row16_col2\" class=\"data row16 col2\" >$1.61</td>\n",
       "            </tr>\n",
       "            <tr>\n",
       "                        <th id=\"T_0e7ff9ba_45fb_11e9_b4b8_7c76359e78c9level0_row17\" class=\"row_heading level0 row17\" >117</th>\n",
       "                        <th id=\"T_0e7ff9ba_45fb_11e9_b4b8_7c76359e78c9level1_row17\" class=\"row_heading level1 row17\" >Heartstriker, Legacy of the Light</th>\n",
       "                        <td id=\"T_0e7ff9ba_45fb_11e9_b4b8_7c76359e78c9row17_col0\" class=\"data row17 col0\" >$12.53</td>\n",
       "                        <td id=\"T_0e7ff9ba_45fb_11e9_b4b8_7c76359e78c9row17_col1\" class=\"data row17 col1\" >7</td>\n",
       "                        <td id=\"T_0e7ff9ba_45fb_11e9_b4b8_7c76359e78c9row17_col2\" class=\"data row17 col2\" >$1.79</td>\n",
       "            </tr>\n",
       "            <tr>\n",
       "                        <th id=\"T_0e7ff9ba_45fb_11e9_b4b8_7c76359e78c9level0_row18\" class=\"row_heading level0 row18\" >159</th>\n",
       "                        <th id=\"T_0e7ff9ba_45fb_11e9_b4b8_7c76359e78c9level1_row18\" class=\"row_heading level1 row18\" >Oathbreaker, Spellblade of Trials</th>\n",
       "                        <td id=\"T_0e7ff9ba_45fb_11e9_b4b8_7c76359e78c9row18_col0\" class=\"data row18 col0\" >$21.56</td>\n",
       "                        <td id=\"T_0e7ff9ba_45fb_11e9_b4b8_7c76359e78c9row18_col1\" class=\"data row18 col1\" >7</td>\n",
       "                        <td id=\"T_0e7ff9ba_45fb_11e9_b4b8_7c76359e78c9row18_col2\" class=\"data row18 col2\" >$3.08</td>\n",
       "            </tr>\n",
       "            <tr>\n",
       "                        <th id=\"T_0e7ff9ba_45fb_11e9_b4b8_7c76359e78c9level0_row19\" class=\"row_heading level0 row19\" >85</th>\n",
       "                        <th id=\"T_0e7ff9ba_45fb_11e9_b4b8_7c76359e78c9level1_row19\" class=\"row_heading level1 row19\" >Malificent Bag</th>\n",
       "                        <td id=\"T_0e7ff9ba_45fb_11e9_b4b8_7c76359e78c9row19_col0\" class=\"data row19 col0\" >$12.25</td>\n",
       "                        <td id=\"T_0e7ff9ba_45fb_11e9_b4b8_7c76359e78c9row19_col1\" class=\"data row19 col1\" >7</td>\n",
       "                        <td id=\"T_0e7ff9ba_45fb_11e9_b4b8_7c76359e78c9row19_col2\" class=\"data row19 col2\" >$1.75</td>\n",
       "            </tr>\n",
       "    </tbody></table>"
      ],
      "text/plain": [
       "<pandas.io.formats.style.Styler at 0x14a5174b128>"
      ]
     },
     "execution_count": 19,
     "metadata": {},
     "output_type": "execute_result"
    }
   ],
   "source": [
    "itemData = df.groupby(['Item ID', 'Item Name'])['Price'].agg(['sum', 'count', 'mean'])\n",
    "itemData.columns = [\"Item Total Sales\", \"Purchase Count\", \"Avg Item Price\"]\n",
    "itemData_df = pd.DataFrame(itemData).sort_values(\"Purchase Count\", ascending=False)\\\n",
    "                    .head(20).style.format({'Avg Item Price': '${:.6}', \n",
    "                    'Item Total Sales': '${:.4}'})\n",
    "itemData_df"
   ]
  },
  {
   "cell_type": "markdown",
   "metadata": {},
   "source": [
    "## Most Profitable Items"
   ]
  },
  {
   "cell_type": "markdown",
   "metadata": {},
   "source": [
    "* Display a preview of the data frame"
   ]
  },
  {
   "cell_type": "code",
   "execution_count": 11,
   "metadata": {
    "scrolled": true
   },
   "outputs": [
    {
     "data": {
      "text/html": [
       "<style  type=\"text/css\" >\n",
       "</style><table id=\"T_ab83d9ec_45f8_11e9_aba6_7c76359e78c9\" ><thead>    <tr>        <th class=\"blank\" ></th>        <th class=\"blank level0\" ></th>        <th class=\"col_heading level0 col0\" >Item Total Sales</th>        <th class=\"col_heading level0 col1\" >Purchase Count</th>        <th class=\"col_heading level0 col2\" >Avg Item Price</th>    </tr>    <tr>        <th class=\"index_name level0\" >Item ID</th>        <th class=\"index_name level1\" >Item Name</th>        <th class=\"blank\" ></th>        <th class=\"blank\" ></th>        <th class=\"blank\" ></th>    </tr></thead><tbody>\n",
       "                <tr>\n",
       "                        <th id=\"T_ab83d9ec_45f8_11e9_aba6_7c76359e78c9level0_row0\" class=\"row_heading level0 row0\" >178</th>\n",
       "                        <th id=\"T_ab83d9ec_45f8_11e9_aba6_7c76359e78c9level1_row0\" class=\"row_heading level1 row0\" >Oathbreaker, Last Hope of the Breaking Storm</th>\n",
       "                        <td id=\"T_ab83d9ec_45f8_11e9_aba6_7c76359e78c9row0_col0\" class=\"data row0 col0\" >$50.76</td>\n",
       "                        <td id=\"T_ab83d9ec_45f8_11e9_aba6_7c76359e78c9row0_col1\" class=\"data row0 col1\" >12</td>\n",
       "                        <td id=\"T_ab83d9ec_45f8_11e9_aba6_7c76359e78c9row0_col2\" class=\"data row0 col2\" >$4.23</td>\n",
       "            </tr>\n",
       "            <tr>\n",
       "                        <th id=\"T_ab83d9ec_45f8_11e9_aba6_7c76359e78c9level0_row1\" class=\"row_heading level0 row1\" >82</th>\n",
       "                        <th id=\"T_ab83d9ec_45f8_11e9_aba6_7c76359e78c9level1_row1\" class=\"row_heading level1 row1\" >Nirvana</th>\n",
       "                        <td id=\"T_ab83d9ec_45f8_11e9_aba6_7c76359e78c9row1_col0\" class=\"data row1 col0\" >$44.1</td>\n",
       "                        <td id=\"T_ab83d9ec_45f8_11e9_aba6_7c76359e78c9row1_col1\" class=\"data row1 col1\" >9</td>\n",
       "                        <td id=\"T_ab83d9ec_45f8_11e9_aba6_7c76359e78c9row1_col2\" class=\"data row1 col2\" >$4.9</td>\n",
       "            </tr>\n",
       "            <tr>\n",
       "                        <th id=\"T_ab83d9ec_45f8_11e9_aba6_7c76359e78c9level0_row2\" class=\"row_heading level0 row2\" >145</th>\n",
       "                        <th id=\"T_ab83d9ec_45f8_11e9_aba6_7c76359e78c9level1_row2\" class=\"row_heading level1 row2\" >Fiery Glass Crusader</th>\n",
       "                        <td id=\"T_ab83d9ec_45f8_11e9_aba6_7c76359e78c9row2_col0\" class=\"data row2 col0\" >$41.22</td>\n",
       "                        <td id=\"T_ab83d9ec_45f8_11e9_aba6_7c76359e78c9row2_col1\" class=\"data row2 col1\" >9</td>\n",
       "                        <td id=\"T_ab83d9ec_45f8_11e9_aba6_7c76359e78c9row2_col2\" class=\"data row2 col2\" >$4.58</td>\n",
       "            </tr>\n",
       "            <tr>\n",
       "                        <th id=\"T_ab83d9ec_45f8_11e9_aba6_7c76359e78c9level0_row3\" class=\"row_heading level0 row3\" >92</th>\n",
       "                        <th id=\"T_ab83d9ec_45f8_11e9_aba6_7c76359e78c9level1_row3\" class=\"row_heading level1 row3\" >Final Critic</th>\n",
       "                        <td id=\"T_ab83d9ec_45f8_11e9_aba6_7c76359e78c9row3_col0\" class=\"data row3 col0\" >$39.04</td>\n",
       "                        <td id=\"T_ab83d9ec_45f8_11e9_aba6_7c76359e78c9row3_col1\" class=\"data row3 col1\" >8</td>\n",
       "                        <td id=\"T_ab83d9ec_45f8_11e9_aba6_7c76359e78c9row3_col2\" class=\"data row3 col2\" >$4.88</td>\n",
       "            </tr>\n",
       "            <tr>\n",
       "                        <th id=\"T_ab83d9ec_45f8_11e9_aba6_7c76359e78c9level0_row4\" class=\"row_heading level0 row4\" >103</th>\n",
       "                        <th id=\"T_ab83d9ec_45f8_11e9_aba6_7c76359e78c9level1_row4\" class=\"row_heading level1 row4\" >Singed Scalpel</th>\n",
       "                        <td id=\"T_ab83d9ec_45f8_11e9_aba6_7c76359e78c9row4_col0\" class=\"data row4 col0\" >$34.8</td>\n",
       "                        <td id=\"T_ab83d9ec_45f8_11e9_aba6_7c76359e78c9row4_col1\" class=\"data row4 col1\" >8</td>\n",
       "                        <td id=\"T_ab83d9ec_45f8_11e9_aba6_7c76359e78c9row4_col2\" class=\"data row4 col2\" >$4.35</td>\n",
       "            </tr>\n",
       "    </tbody></table>"
      ],
      "text/plain": [
       "<pandas.io.formats.style.Styler at 0x14a50713fd0>"
      ]
     },
     "execution_count": 11,
     "metadata": {},
     "output_type": "execute_result"
    }
   ],
   "source": [
    "profitable_items = pd.DataFrame(itemData) \\\n",
    "                    .sort_values(\"Item Total Sales\", ascending=False) \\\n",
    "                    .head(5).style.format({'Avg Item Price': '${:.6}', \n",
    "                    'Item Total Sales': '${:.4}'})\n",
    "profitable_items"
   ]
  },
  {
   "cell_type": "markdown",
   "metadata": {},
   "source": [
    "## Trends"
   ]
  },
  {
   "cell_type": "markdown",
   "metadata": {},
   "source": [
    "-Contrary to intuition, the age bracket that spends the most per transaction is the <10 years old bracket.\n",
    "-Male players spend less than ~10% less average relative to females non-disclosed/others.\n",
    "-The cost of the item does not appear to influence the frequency of purchase.  In fact, the more expensive items tend to be frequently bought than cheaper items."
   ]
  }
 ],
 "metadata": {
  "anaconda-cloud": {},
  "kernel_info": {
   "name": "python3"
  },
  "kernelspec": {
   "display_name": "Python [default]",
   "language": "python",
   "name": "python3"
  },
  "language_info": {
   "codemirror_mode": {
    "name": "ipython",
    "version": 3
   },
   "file_extension": ".py",
   "mimetype": "text/x-python",
   "name": "python",
   "nbconvert_exporter": "python",
   "pygments_lexer": "ipython3",
   "version": "3.6.6"
  },
  "nteract": {
   "version": "0.2.0"
  }
 },
 "nbformat": 4,
 "nbformat_minor": 2
}
